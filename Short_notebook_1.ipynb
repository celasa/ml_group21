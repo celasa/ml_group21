{
 "cells": [
  {
   "cell_type": "markdown",
   "id": "d19b114b",
   "metadata": {},
   "source": [
    "Kaggle prediction 1"
   ]
  }
 ],
 "metadata": {
  "language_info": {
   "name": "python"
  }
 },
 "nbformat": 4,
 "nbformat_minor": 5
}
