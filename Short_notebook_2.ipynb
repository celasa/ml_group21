{
 "cells": [
  {
   "cell_type": "markdown",
   "id": "67e7dcd8",
   "metadata": {},
   "source": [
    "Kaggle prediction 2"
   ]
  }
 ],
 "metadata": {
  "language_info": {
   "name": "python"
  }
 },
 "nbformat": 4,
 "nbformat_minor": 5
}
