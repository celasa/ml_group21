{
 "cells": [
  {
   "cell_type": "markdown",
   "id": "617d8903",
   "metadata": {},
   "source": [
    "Combining kernel data files"
   ]
  },
  {
   "cell_type": "code",
   "execution_count": 1,
   "id": "c4bc91bf",
   "metadata": {},
   "outputs": [],
   "source": [
    "import pandas as pd\n",
    "import numpy as np\n",
    "import matplotlib.pyplot as plt\n",
    "import seaborn as sns"
   ]
  },
  {
   "cell_type": "code",
   "execution_count": 4,
   "id": "9dd06202",
   "metadata": {},
   "outputs": [],
   "source": [
    "receivals = pd.read_csv(\"/home/celinaha/ml_group21/data/kernel/receivals.csv\").copy()\n",
    "purchase = pd.read_csv(\"/home/celinaha/ml_group21/data/kernel/purchase_orders.csv\").copy()"
   ]
  },
  {
   "cell_type": "code",
   "execution_count": 3,
   "id": "d32d669b",
   "metadata": {},
   "outputs": [
    {
     "name": "stdout",
     "output_type": "stream",
     "text": [
      "<class 'pandas.core.frame.DataFrame'>\n",
      "RangeIndex: 122590 entries, 0 to 122589\n",
      "Data columns (total 10 columns):\n",
      " #   Column                  Non-Null Count   Dtype  \n",
      "---  ------                  --------------   -----  \n",
      " 0   rm_id                   122533 non-null  float64\n",
      " 1   product_id              122533 non-null  float64\n",
      " 2   purchase_order_id       122537 non-null  float64\n",
      " 3   purchase_order_item_no  122537 non-null  float64\n",
      " 4   receival_item_no        122590 non-null  int64  \n",
      " 5   batch_id                64765 non-null   float64\n",
      " 6   date_arrival            122590 non-null  object \n",
      " 7   receival_status         122590 non-null  object \n",
      " 8   net_weight              122522 non-null  float64\n",
      " 9   supplier_id             122590 non-null  int64  \n",
      "dtypes: float64(6), int64(2), object(2)\n",
      "memory usage: 9.4+ MB\n"
     ]
    }
   ],
   "source": [
    "receivals.info()"
   ]
  },
  {
   "cell_type": "code",
   "execution_count": 5,
   "id": "8250f0f7",
   "metadata": {},
   "outputs": [
    {
     "name": "stdout",
     "output_type": "stream",
     "text": [
      "<class 'pandas.core.frame.DataFrame'>\n",
      "RangeIndex: 33171 entries, 0 to 33170\n",
      "Data columns (total 12 columns):\n",
      " #   Column                  Non-Null Count  Dtype  \n",
      "---  ------                  --------------  -----  \n",
      " 0   purchase_order_id       33171 non-null  int64  \n",
      " 1   purchase_order_item_no  33171 non-null  int64  \n",
      " 2   quantity                33171 non-null  float64\n",
      " 3   delivery_date           33171 non-null  object \n",
      " 4   product_id              33171 non-null  int64  \n",
      " 5   product_version         33171 non-null  int64  \n",
      " 6   created_date_time       33171 non-null  object \n",
      " 7   modified_date_time      32679 non-null  object \n",
      " 8   unit_id                 33127 non-null  float64\n",
      " 9   unit                    33127 non-null  object \n",
      " 10  status_id               33171 non-null  int64  \n",
      " 11  status                  33171 non-null  object \n",
      "dtypes: float64(2), int64(5), object(5)\n",
      "memory usage: 3.0+ MB\n"
     ]
    }
   ],
   "source": [
    "purchase.info()"
   ]
  }
 ],
 "metadata": {
  "kernelspec": {
   "display_name": "mml_dataprep",
   "language": "python",
   "name": "python3"
  },
  "language_info": {
   "codemirror_mode": {
    "name": "ipython",
    "version": 3
   },
   "file_extension": ".py",
   "mimetype": "text/x-python",
   "name": "python",
   "nbconvert_exporter": "python",
   "pygments_lexer": "ipython3",
   "version": "3.13.7"
  }
 },
 "nbformat": 4,
 "nbformat_minor": 5
}
