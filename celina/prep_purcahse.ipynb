{
 "cells": [
  {
   "cell_type": "markdown",
   "id": "31d7c471",
   "metadata": {},
   "source": [
    "1. Sanity checks of dataset before merging"
   ]
  },
  {
   "cell_type": "code",
   "execution_count": 91,
   "id": "d274ce6d",
   "metadata": {},
   "outputs": [],
   "source": [
    "import pandas as pd\n",
    "import numpy as np\n",
    "import matplotlib.pyplot as plt\n",
    "import seaborn as sns"
   ]
  },
  {
   "cell_type": "code",
   "execution_count": 92,
   "id": "79c21136",
   "metadata": {},
   "outputs": [],
   "source": [
    "purchase = pd.read_csv('/home/celinaha/ml_group21/data/kernel/purchase_orders.csv')"
   ]
  },
  {
   "cell_type": "code",
   "execution_count": 93,
   "id": "16bb770a",
   "metadata": {},
   "outputs": [
    {
     "data": {
      "text/plain": [
       "purchase_order_id         False\n",
       "purchase_order_item_no    False\n",
       "quantity                   True\n",
       "product_id                False\n",
       "product_version           False\n",
       "unit_id                   False\n",
       "status_id                 False\n",
       "dtype: bool"
      ]
     },
     "execution_count": 93,
     "metadata": {},
     "output_type": "execute_result"
    }
   ],
   "source": [
    "(purchase.select_dtypes(include=['number'])<0).any()"
   ]
  },
  {
   "cell_type": "markdown",
   "id": "72217f52",
   "metadata": {},
   "source": [
    "General info:"
   ]
  },
  {
   "cell_type": "code",
   "execution_count": 94,
   "id": "0381e8d5",
   "metadata": {},
   "outputs": [
    {
     "data": {
      "text/plain": [
       "(33171, 12)"
      ]
     },
     "execution_count": 94,
     "metadata": {},
     "output_type": "execute_result"
    }
   ],
   "source": [
    "purchase.shape"
   ]
  },
  {
   "cell_type": "code",
   "execution_count": 95,
   "id": "df3e4077",
   "metadata": {},
   "outputs": [
    {
     "name": "stdout",
     "output_type": "stream",
     "text": [
      "<class 'pandas.core.frame.DataFrame'>\n",
      "RangeIndex: 33171 entries, 0 to 33170\n",
      "Data columns (total 12 columns):\n",
      " #   Column                  Non-Null Count  Dtype  \n",
      "---  ------                  --------------  -----  \n",
      " 0   purchase_order_id       33171 non-null  int64  \n",
      " 1   purchase_order_item_no  33171 non-null  int64  \n",
      " 2   quantity                33171 non-null  float64\n",
      " 3   delivery_date           33171 non-null  object \n",
      " 4   product_id              33171 non-null  int64  \n",
      " 5   product_version         33171 non-null  int64  \n",
      " 6   created_date_time       33171 non-null  object \n",
      " 7   modified_date_time      32679 non-null  object \n",
      " 8   unit_id                 33127 non-null  float64\n",
      " 9   unit                    33127 non-null  object \n",
      " 10  status_id               33171 non-null  int64  \n",
      " 11  status                  33171 non-null  object \n",
      "dtypes: float64(2), int64(5), object(5)\n",
      "memory usage: 3.0+ MB\n"
     ]
    }
   ],
   "source": [
    "purchase.info()"
   ]
  },
  {
   "cell_type": "code",
   "execution_count": 96,
   "id": "79348faf",
   "metadata": {},
   "outputs": [
    {
     "data": {
      "text/plain": [
       "purchase_order_id          8135\n",
       "purchase_order_item_no       94\n",
       "quantity                   4997\n",
       "delivery_date              2332\n",
       "product_id                   77\n",
       "product_version               9\n",
       "created_date_time         14657\n",
       "modified_date_time        22845\n",
       "unit_id                       2\n",
       "unit                          2\n",
       "status_id                     3\n",
       "status                        3\n",
       "dtype: int64"
      ]
     },
     "execution_count": 96,
     "metadata": {},
     "output_type": "execute_result"
    }
   ],
   "source": [
    "# unique rows\n",
    "purchase.nunique()"
   ]
  },
  {
   "cell_type": "code",
   "execution_count": 97,
   "id": "ebc2513f",
   "metadata": {},
   "outputs": [
    {
     "data": {
      "text/plain": [
       "purchase_order_id           0\n",
       "purchase_order_item_no      0\n",
       "quantity                    0\n",
       "delivery_date               0\n",
       "product_id                  0\n",
       "product_version             0\n",
       "created_date_time           0\n",
       "modified_date_time        492\n",
       "unit_id                    44\n",
       "unit                       44\n",
       "status_id                   0\n",
       "status                      0\n",
       "dtype: int64"
      ]
     },
     "execution_count": 97,
     "metadata": {},
     "output_type": "execute_result"
    }
   ],
   "source": [
    "# missing values:\n",
    "\n",
    "purchase.isnull().sum()"
   ]
  },
  {
   "cell_type": "code",
   "execution_count": 98,
   "id": "1527925b",
   "metadata": {},
   "outputs": [
    {
     "data": {
      "text/plain": [
       "purchase_order_id         0.000000\n",
       "purchase_order_item_no    0.000000\n",
       "quantity                  0.000000\n",
       "delivery_date             0.000000\n",
       "product_id                0.000000\n",
       "product_version           0.000000\n",
       "created_date_time         0.000000\n",
       "modified_date_time        1.483223\n",
       "unit_id                   0.132646\n",
       "unit                      0.132646\n",
       "status_id                 0.000000\n",
       "status                    0.000000\n",
       "dtype: float64"
      ]
     },
     "execution_count": 98,
     "metadata": {},
     "output_type": "execute_result"
    }
   ],
   "source": [
    "purchase.isnull().sum()/purchase.shape[0]*100"
   ]
  },
  {
   "cell_type": "code",
   "execution_count": 99,
   "id": "15fe59c7",
   "metadata": {},
   "outputs": [
    {
     "data": {
      "text/plain": [
       "0"
      ]
     },
     "execution_count": 99,
     "metadata": {},
     "output_type": "execute_result"
    }
   ],
   "source": [
    "# duplicates\n",
    "int(purchase.duplicated().sum())"
   ]
  },
  {
   "cell_type": "code",
   "execution_count": 100,
   "id": "dc9456f4",
   "metadata": {},
   "outputs": [
    {
     "name": "stdout",
     "output_type": "stream",
     "text": [
      "delivery_date\n",
      "2014-12-31 00:00:00.0000000 +01:00    284\n",
      "2009-09-30 00:00:00.0000000 +02:00    264\n",
      "2009-11-30 00:00:00.0000000 +01:00    258\n",
      "2009-07-31 00:00:00.0000000 +02:00    257\n",
      "2009-03-31 00:00:00.0000000 +02:00    253\n",
      "                                     ... \n",
      "2024-09-16 00:00:00.0000000 +02:00      1\n",
      "2024-09-24 00:00:00.0000000 +02:00      1\n",
      "2003-02-10 00:00:00.0000000 +01:00      1\n",
      "2004-08-20 00:00:00.0000000 +02:00      1\n",
      "2004-08-27 00:00:00.0000000 +02:00      1\n",
      "Name: count, Length: 2332, dtype: int64\n",
      "******************************\n",
      "created_date_time\n",
      "2014-03-12 15:03:36.0000000 +00:00    32\n",
      "2015-03-19 15:13:19.0000000 +00:00    32\n",
      "2014-11-14 12:50:47.0000000 +00:00    31\n",
      "2012-10-30 12:24:49.0000000 +00:00    30\n",
      "2006-12-14 17:33:01.0000000 +00:00    30\n",
      "                                      ..\n",
      "2004-10-22 12:21:54.0000000 +00:00     1\n",
      "2005-03-11 13:53:25.0000000 +00:00     1\n",
      "2006-03-27 11:04:44.0000000 +00:00     1\n",
      "2012-07-04 13:53:29.0000000 +00:00     1\n",
      "2024-12-27 09:53:17.0000000 +00:00     1\n",
      "Name: count, Length: 14657, dtype: int64\n",
      "******************************\n",
      "modified_date_time\n",
      "2014-09-23 13:18:08.0000000 +00:00    34\n",
      "2014-09-23 12:53:04.0000000 +00:00    33\n",
      "2014-09-24 09:41:11.0000000 +00:00    33\n",
      "2014-09-23 13:18:09.0000000 +00:00    33\n",
      "2014-09-23 13:18:10.0000000 +00:00    32\n",
      "                                      ..\n",
      "2010-01-25 08:18:28.0000000 +00:00     1\n",
      "2010-01-25 08:18:27.0000000 +00:00     1\n",
      "2010-01-25 08:18:24.0000000 +00:00     1\n",
      "2010-01-25 08:18:23.0000000 +00:00     1\n",
      "2010-01-25 08:18:42.0000000 +00:00     1\n",
      "Name: count, Length: 22845, dtype: int64\n",
      "******************************\n",
      "unit\n",
      "KG      33120\n",
      "PUND        7\n",
      "Name: count, dtype: int64\n",
      "******************************\n",
      "status\n",
      "Closed     28780\n",
      "Deleted     3191\n",
      "Open        1200\n",
      "Name: count, dtype: int64\n",
      "******************************\n"
     ]
    }
   ],
   "source": [
    "# identifying garbage values\n",
    "for i in purchase.select_dtypes(include=\"object\").columns:\n",
    "    print(purchase[i].value_counts())\n",
    "    print(\"***\"*10)"
   ]
  },
  {
   "cell_type": "markdown",
   "id": "060de16f",
   "metadata": {},
   "source": [
    "CHANGING DATATYPES"
   ]
  },
  {
   "cell_type": "markdown",
   "id": "fd535a95",
   "metadata": {},
   "source": [
    "3️⃣ Recommendation for your dataset\n",
    "\n",
    "    * Before merging / EDA: convert IDs to str — easier for plotting, counting, aggregation.\n",
    "\n",
    "    * Before modeling: convert IDs to category for tree-based models, or use encoding (one-hot, target, frequency) if needed.\n",
    "\n",
    "    * Avoid astype(str) on columns with missing values.\n",
    "**********************************************************************************************************************************************\n",
    "    * Use astype('string') for EDA or astype('category') for modeling.\n",
    "\n",
    "    * Missing IDs are important — don’t silently convert them to \"nan\"."
   ]
  },
  {
   "cell_type": "code",
   "execution_count": 101,
   "id": "b1e72edc",
   "metadata": {},
   "outputs": [],
   "source": [
    "#datetime\n",
    "for i in purchase.columns:\n",
    "    if \"date\" in i:\n",
    "        purchase[i] = pd.to_datetime(purchase[i], utc=True, errors='coerce')"
   ]
  },
  {
   "cell_type": "code",
   "execution_count": 102,
   "id": "5e58130b",
   "metadata": {},
   "outputs": [],
   "source": [
    "#strings\n",
    "for i in purchase.columns:\n",
    "    if i.endswith(\"_id\") or i.endswith(\"_no\"):\n",
    "        purchase[i] = purchase[i].astype('string')"
   ]
  },
  {
   "cell_type": "code",
   "execution_count": 103,
   "id": "18fb2bed",
   "metadata": {},
   "outputs": [],
   "source": [
    "# unit, and project_version\n",
    "purchase['unit'] = purchase['unit'].astype(\"string\")\n",
    "purchase['product_version'] = purchase['product_version'].astype(\"string\")"
   ]
  },
  {
   "cell_type": "code",
   "execution_count": 104,
   "id": "1ec17037",
   "metadata": {},
   "outputs": [
    {
     "name": "stdout",
     "output_type": "stream",
     "text": [
      "<class 'pandas.core.frame.DataFrame'>\n",
      "RangeIndex: 33171 entries, 0 to 33170\n",
      "Data columns (total 12 columns):\n",
      " #   Column                  Non-Null Count  Dtype              \n",
      "---  ------                  --------------  -----              \n",
      " 0   purchase_order_id       33171 non-null  string             \n",
      " 1   purchase_order_item_no  33171 non-null  string             \n",
      " 2   quantity                33171 non-null  float64            \n",
      " 3   delivery_date           33171 non-null  datetime64[ns, UTC]\n",
      " 4   product_id              33171 non-null  string             \n",
      " 5   product_version         33171 non-null  string             \n",
      " 6   created_date_time       33171 non-null  datetime64[ns, UTC]\n",
      " 7   modified_date_time      32679 non-null  datetime64[ns, UTC]\n",
      " 8   unit_id                 33127 non-null  string             \n",
      " 9   unit                    33127 non-null  string             \n",
      " 10  status_id               33171 non-null  string             \n",
      " 11  status                  33171 non-null  object             \n",
      "dtypes: datetime64[ns, UTC](3), float64(1), object(1), string(7)\n",
      "memory usage: 3.0+ MB\n"
     ]
    }
   ],
   "source": [
    "purchase.info()"
   ]
  },
  {
   "cell_type": "markdown",
   "id": "7b6badcd",
   "metadata": {},
   "source": [
    "Checking impossible values"
   ]
  },
  {
   "cell_type": "code",
   "execution_count": 105,
   "id": "6bf9f62d",
   "metadata": {},
   "outputs": [
    {
     "data": {
      "text/html": [
       "<div>\n",
       "<style scoped>\n",
       "    .dataframe tbody tr th:only-of-type {\n",
       "        vertical-align: middle;\n",
       "    }\n",
       "\n",
       "    .dataframe tbody tr th {\n",
       "        vertical-align: top;\n",
       "    }\n",
       "\n",
       "    .dataframe thead th {\n",
       "        text-align: right;\n",
       "    }\n",
       "</style>\n",
       "<table border=\"1\" class=\"dataframe\">\n",
       "  <thead>\n",
       "    <tr style=\"text-align: right;\">\n",
       "      <th></th>\n",
       "      <th>purchase_order_id</th>\n",
       "      <th>purchase_order_item_no</th>\n",
       "      <th>quantity</th>\n",
       "      <th>delivery_date</th>\n",
       "      <th>product_id</th>\n",
       "      <th>product_version</th>\n",
       "      <th>created_date_time</th>\n",
       "      <th>modified_date_time</th>\n",
       "      <th>unit_id</th>\n",
       "      <th>unit</th>\n",
       "      <th>status_id</th>\n",
       "      <th>status</th>\n",
       "    </tr>\n",
       "  </thead>\n",
       "  <tbody>\n",
       "    <tr>\n",
       "      <th>0</th>\n",
       "      <td>1</td>\n",
       "      <td>1</td>\n",
       "      <td>-14.0</td>\n",
       "      <td>2003-05-11 22:00:00+00:00</td>\n",
       "      <td>91900143</td>\n",
       "      <td>1</td>\n",
       "      <td>2003-05-12 10:00:48+00:00</td>\n",
       "      <td>2004-06-15 06:16:18+00:00</td>\n",
       "      <td>&lt;NA&gt;</td>\n",
       "      <td>&lt;NA&gt;</td>\n",
       "      <td>2</td>\n",
       "      <td>Closed</td>\n",
       "    </tr>\n",
       "    <tr>\n",
       "      <th>59</th>\n",
       "      <td>205323</td>\n",
       "      <td>10</td>\n",
       "      <td>-380.0</td>\n",
       "      <td>2003-01-30 23:00:00+00:00</td>\n",
       "      <td>1024</td>\n",
       "      <td>1</td>\n",
       "      <td>2003-01-28 13:30:23+00:00</td>\n",
       "      <td>2004-06-15 06:08:40+00:00</td>\n",
       "      <td>40.0</td>\n",
       "      <td>KG</td>\n",
       "      <td>2</td>\n",
       "      <td>Closed</td>\n",
       "    </tr>\n",
       "    <tr>\n",
       "      <th>60</th>\n",
       "      <td>205443</td>\n",
       "      <td>10</td>\n",
       "      <td>-390.0</td>\n",
       "      <td>2003-02-09 23:00:00+00:00</td>\n",
       "      <td>1024</td>\n",
       "      <td>1</td>\n",
       "      <td>2003-02-10 09:31:21+00:00</td>\n",
       "      <td>2004-06-15 06:14:46+00:00</td>\n",
       "      <td>40.0</td>\n",
       "      <td>KG</td>\n",
       "      <td>2</td>\n",
       "      <td>Closed</td>\n",
       "    </tr>\n",
       "    <tr>\n",
       "      <th>61</th>\n",
       "      <td>206151</td>\n",
       "      <td>10</td>\n",
       "      <td>-260.0</td>\n",
       "      <td>2003-04-20 22:00:00+00:00</td>\n",
       "      <td>1024</td>\n",
       "      <td>1</td>\n",
       "      <td>2003-04-14 09:31:14+00:00</td>\n",
       "      <td>2004-06-15 06:14:50+00:00</td>\n",
       "      <td>40.0</td>\n",
       "      <td>KG</td>\n",
       "      <td>2</td>\n",
       "      <td>Closed</td>\n",
       "    </tr>\n",
       "    <tr>\n",
       "      <th>66</th>\n",
       "      <td>206386</td>\n",
       "      <td>10</td>\n",
       "      <td>-340.0</td>\n",
       "      <td>2003-05-13 22:00:00+00:00</td>\n",
       "      <td>1024</td>\n",
       "      <td>1</td>\n",
       "      <td>2003-05-09 08:30:53+00:00</td>\n",
       "      <td>2004-06-15 06:14:54+00:00</td>\n",
       "      <td>40.0</td>\n",
       "      <td>KG</td>\n",
       "      <td>2</td>\n",
       "      <td>Closed</td>\n",
       "    </tr>\n",
       "    <tr>\n",
       "      <th>208</th>\n",
       "      <td>209842</td>\n",
       "      <td>10</td>\n",
       "      <td>-8580.0</td>\n",
       "      <td>2004-04-29 22:00:00+00:00</td>\n",
       "      <td>91900170</td>\n",
       "      <td>1</td>\n",
       "      <td>2004-04-28 08:32:31+00:00</td>\n",
       "      <td>2004-06-15 06:16:36+00:00</td>\n",
       "      <td>40.0</td>\n",
       "      <td>KG</td>\n",
       "      <td>2</td>\n",
       "      <td>Closed</td>\n",
       "    </tr>\n",
       "  </tbody>\n",
       "</table>\n",
       "</div>"
      ],
      "text/plain": [
       "    purchase_order_id purchase_order_item_no  quantity  \\\n",
       "0                   1                      1     -14.0   \n",
       "59             205323                     10    -380.0   \n",
       "60             205443                     10    -390.0   \n",
       "61             206151                     10    -260.0   \n",
       "66             206386                     10    -340.0   \n",
       "208            209842                     10   -8580.0   \n",
       "\n",
       "                delivery_date product_id product_version  \\\n",
       "0   2003-05-11 22:00:00+00:00   91900143               1   \n",
       "59  2003-01-30 23:00:00+00:00       1024               1   \n",
       "60  2003-02-09 23:00:00+00:00       1024               1   \n",
       "61  2003-04-20 22:00:00+00:00       1024               1   \n",
       "66  2003-05-13 22:00:00+00:00       1024               1   \n",
       "208 2004-04-29 22:00:00+00:00   91900170               1   \n",
       "\n",
       "            created_date_time        modified_date_time unit_id  unit  \\\n",
       "0   2003-05-12 10:00:48+00:00 2004-06-15 06:16:18+00:00    <NA>  <NA>   \n",
       "59  2003-01-28 13:30:23+00:00 2004-06-15 06:08:40+00:00    40.0    KG   \n",
       "60  2003-02-10 09:31:21+00:00 2004-06-15 06:14:46+00:00    40.0    KG   \n",
       "61  2003-04-14 09:31:14+00:00 2004-06-15 06:14:50+00:00    40.0    KG   \n",
       "66  2003-05-09 08:30:53+00:00 2004-06-15 06:14:54+00:00    40.0    KG   \n",
       "208 2004-04-28 08:32:31+00:00 2004-06-15 06:16:36+00:00    40.0    KG   \n",
       "\n",
       "    status_id  status  \n",
       "0           2  Closed  \n",
       "59          2  Closed  \n",
       "60          2  Closed  \n",
       "61          2  Closed  \n",
       "66          2  Closed  \n",
       "208         2  Closed  "
      ]
     },
     "execution_count": 105,
     "metadata": {},
     "output_type": "execute_result"
    }
   ],
   "source": [
    "# negative quantities\n",
    "purchase[purchase['quantity']<0]\n"
   ]
  },
  {
   "cell_type": "code",
   "execution_count": 109,
   "id": "36af936c",
   "metadata": {},
   "outputs": [
    {
     "data": {
      "text/plain": [
       "purchase_order_id           0\n",
       "purchase_order_item_no      0\n",
       "quantity                    0\n",
       "delivery_date               0\n",
       "product_id                  0\n",
       "product_version             0\n",
       "created_date_time           0\n",
       "modified_date_time        492\n",
       "unit_id                    44\n",
       "unit                       44\n",
       "status_id                   0\n",
       "status                      0\n",
       "dtype: int64"
      ]
     },
     "execution_count": 109,
     "metadata": {},
     "output_type": "execute_result"
    }
   ],
   "source": [
    "purchase.isna().sum()"
   ]
  },
  {
   "cell_type": "markdown",
   "id": "d89af09f",
   "metadata": {},
   "source": [
    "First EDA steps; .describe()"
   ]
  },
  {
   "cell_type": "code",
   "execution_count": 112,
   "id": "8c953f7c",
   "metadata": {},
   "outputs": [
    {
     "data": {
      "text/html": [
       "<div>\n",
       "<style scoped>\n",
       "    .dataframe tbody tr th:only-of-type {\n",
       "        vertical-align: middle;\n",
       "    }\n",
       "\n",
       "    .dataframe tbody tr th {\n",
       "        vertical-align: top;\n",
       "    }\n",
       "\n",
       "    .dataframe thead th {\n",
       "        text-align: right;\n",
       "    }\n",
       "</style>\n",
       "<table border=\"1\" class=\"dataframe\">\n",
       "  <thead>\n",
       "    <tr style=\"text-align: right;\">\n",
       "      <th></th>\n",
       "      <th>count</th>\n",
       "      <th>mean</th>\n",
       "      <th>std</th>\n",
       "      <th>min</th>\n",
       "      <th>25%</th>\n",
       "      <th>50%</th>\n",
       "      <th>75%</th>\n",
       "      <th>max</th>\n",
       "    </tr>\n",
       "  </thead>\n",
       "  <tbody>\n",
       "    <tr>\n",
       "      <th>quantity</th>\n",
       "      <td>33171.0</td>\n",
       "      <td>90314.155619</td>\n",
       "      <td>330809.698715</td>\n",
       "      <td>-8580.0</td>\n",
       "      <td>10000.0</td>\n",
       "      <td>26280.0</td>\n",
       "      <td>100000.0</td>\n",
       "      <td>24975988.0</td>\n",
       "    </tr>\n",
       "  </tbody>\n",
       "</table>\n",
       "</div>"
      ],
      "text/plain": [
       "            count          mean            std     min      25%      50%  \\\n",
       "quantity  33171.0  90314.155619  330809.698715 -8580.0  10000.0  26280.0   \n",
       "\n",
       "               75%         max  \n",
       "quantity  100000.0  24975988.0  "
      ]
     },
     "execution_count": 112,
     "metadata": {},
     "output_type": "execute_result"
    }
   ],
   "source": [
    "purchase.describe().T"
   ]
  },
  {
   "cell_type": "code",
   "execution_count": 113,
   "id": "d6c2fc73",
   "metadata": {},
   "outputs": [
    {
     "data": {
      "text/html": [
       "<div>\n",
       "<style scoped>\n",
       "    .dataframe tbody tr th:only-of-type {\n",
       "        vertical-align: middle;\n",
       "    }\n",
       "\n",
       "    .dataframe tbody tr th {\n",
       "        vertical-align: top;\n",
       "    }\n",
       "\n",
       "    .dataframe thead th {\n",
       "        text-align: right;\n",
       "    }\n",
       "</style>\n",
       "<table border=\"1\" class=\"dataframe\">\n",
       "  <thead>\n",
       "    <tr style=\"text-align: right;\">\n",
       "      <th></th>\n",
       "      <th>count</th>\n",
       "      <th>unique</th>\n",
       "      <th>top</th>\n",
       "      <th>freq</th>\n",
       "    </tr>\n",
       "  </thead>\n",
       "  <tbody>\n",
       "    <tr>\n",
       "      <th>purchase_order_id</th>\n",
       "      <td>33171</td>\n",
       "      <td>8135</td>\n",
       "      <td>231471</td>\n",
       "      <td>93</td>\n",
       "    </tr>\n",
       "    <tr>\n",
       "      <th>purchase_order_item_no</th>\n",
       "      <td>33171</td>\n",
       "      <td>94</td>\n",
       "      <td>10</td>\n",
       "      <td>8118</td>\n",
       "    </tr>\n",
       "    <tr>\n",
       "      <th>product_id</th>\n",
       "      <td>33171</td>\n",
       "      <td>77</td>\n",
       "      <td>91900143</td>\n",
       "      <td>7115</td>\n",
       "    </tr>\n",
       "    <tr>\n",
       "      <th>product_version</th>\n",
       "      <td>33171</td>\n",
       "      <td>9</td>\n",
       "      <td>1</td>\n",
       "      <td>25685</td>\n",
       "    </tr>\n",
       "    <tr>\n",
       "      <th>unit_id</th>\n",
       "      <td>33127</td>\n",
       "      <td>2</td>\n",
       "      <td>40.0</td>\n",
       "      <td>33120</td>\n",
       "    </tr>\n",
       "    <tr>\n",
       "      <th>unit</th>\n",
       "      <td>33127</td>\n",
       "      <td>2</td>\n",
       "      <td>KG</td>\n",
       "      <td>33120</td>\n",
       "    </tr>\n",
       "    <tr>\n",
       "      <th>status_id</th>\n",
       "      <td>33171</td>\n",
       "      <td>3</td>\n",
       "      <td>2</td>\n",
       "      <td>28780</td>\n",
       "    </tr>\n",
       "  </tbody>\n",
       "</table>\n",
       "</div>"
      ],
      "text/plain": [
       "                        count unique       top   freq\n",
       "purchase_order_id       33171   8135    231471     93\n",
       "purchase_order_item_no  33171     94        10   8118\n",
       "product_id              33171     77  91900143   7115\n",
       "product_version         33171      9         1  25685\n",
       "unit_id                 33127      2      40.0  33120\n",
       "unit                    33127      2        KG  33120\n",
       "status_id               33171      3         2  28780"
      ]
     },
     "execution_count": 113,
     "metadata": {},
     "output_type": "execute_result"
    }
   ],
   "source": [
    "purchase.describe(include='string').T"
   ]
  }
 ],
 "metadata": {
  "kernelspec": {
   "display_name": "mml_dataprep",
   "language": "python",
   "name": "python3"
  },
  "language_info": {
   "codemirror_mode": {
    "name": "ipython",
    "version": 3
   },
   "file_extension": ".py",
   "mimetype": "text/x-python",
   "name": "python",
   "nbconvert_exporter": "python",
   "pygments_lexer": "ipython3",
   "version": "3.13.7"
  }
 },
 "nbformat": 4,
 "nbformat_minor": 5
}
