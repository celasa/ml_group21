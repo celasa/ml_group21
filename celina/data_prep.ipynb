{
 "cells": [
  {
   "cell_type": "code",
   "execution_count": null,
   "id": "1ae3681a",
   "metadata": {},
   "outputs": [],
   "source": [
    "import pandas as pd\n",
    "import numpy as np\n",
    "import matplotlib.pyplot as plt\n",
    "import seaborn as sns"
   ]
  },
  {
   "cell_type": "code",
   "execution_count": 2,
   "id": "209f95b9",
   "metadata": {},
   "outputs": [],
   "source": [
    "receivals = pd.read_csv(\"/home/celinaha/ml_group21/data/kernel/receivals.csv\").copy()\n",
    "purchase_orders = pd.read_csv(\"/home/celinaha/ml_group21/data/kernel/purchase_orders.csv\").copy()"
   ]
  },
  {
   "cell_type": "code",
   "execution_count": 8,
   "id": "fbd47330",
   "metadata": {},
   "outputs": [
    {
     "data": {
      "text/plain": [
       "array(['Closed', 'Deleted', 'Open'], dtype=object)"
      ]
     },
     "execution_count": 8,
     "metadata": {},
     "output_type": "execute_result"
    }
   ],
   "source": [
    "receivals.head()\n",
    "purchase_orders.head()\n",
    "purchase_orders['status'].unique()"
   ]
  },
  {
   "cell_type": "markdown",
   "id": "a8536fb8",
   "metadata": {},
   "source": [
    "The IDs are categorical, each ID-type is a different feature -> feature vectors. The dimensions of each feature vector depends on the number of categories. For instance, in purchase_orders.csv the the status feature is a feature vector of 3 categories (closed, deleted, open)."
   ]
  },
  {
   "cell_type": "code",
   "execution_count": 9,
   "id": "a5362af3",
   "metadata": {},
   "outputs": [
    {
     "data": {
      "text/plain": [
       "rm_id                       203\n",
       "product_id                   54\n",
       "purchase_order_id          7173\n",
       "purchase_order_item_no       92\n",
       "receival_item_no             15\n",
       "batch_id                  64765\n",
       "date_arrival              87527\n",
       "receival_status               4\n",
       "net_weight                14824\n",
       "supplier_id                 255\n",
       "dtype: int64"
      ]
     },
     "execution_count": 9,
     "metadata": {},
     "output_type": "execute_result"
    }
   ],
   "source": [
    "receivals.nunique()"
   ]
  },
  {
   "cell_type": "code",
   "execution_count": 11,
   "id": "8a8d9fe5",
   "metadata": {},
   "outputs": [
    {
     "data": {
      "text/plain": [
       "array(['Completed', 'Finished unloading', 'Planned', 'Start unloading'],\n",
       "      dtype=object)"
      ]
     },
     "execution_count": 11,
     "metadata": {},
     "output_type": "execute_result"
    }
   ],
   "source": [
    "receivals['receival_status'].unique()"
   ]
  }
 ],
 "metadata": {
  "kernelspec": {
   "display_name": "mmlp_env",
   "language": "python",
   "name": "python3"
  },
  "language_info": {
   "codemirror_mode": {
    "name": "ipython",
    "version": 3
   },
   "file_extension": ".py",
   "mimetype": "text/x-python",
   "name": "python",
   "nbconvert_exporter": "python",
   "pygments_lexer": "ipython3",
   "version": "3.12.11"
  }
 },
 "nbformat": 4,
 "nbformat_minor": 5
}
