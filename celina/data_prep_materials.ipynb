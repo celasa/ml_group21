{
 "cells": [
  {
   "cell_type": "code",
   "execution_count": 1,
   "id": "abd7d9b7",
   "metadata": {},
   "outputs": [],
   "source": [
    "import pandas as pd\n",
    "import numpy as np\n",
    "import matplotlib.pyplot as plt\n",
    "import seaborn as sns"
   ]
  },
  {
   "cell_type": "code",
   "execution_count": 3,
   "id": "cc4e573c",
   "metadata": {},
   "outputs": [],
   "source": [
    "materials = pd.read_csv('/home/celinaha/ml_group21/data/extended/materials.csv')"
   ]
  },
  {
   "cell_type": "code",
   "execution_count": 4,
   "id": "a2e89e6a",
   "metadata": {},
   "outputs": [
    {
     "data": {
      "text/html": [
       "<div>\n",
       "<style scoped>\n",
       "    .dataframe tbody tr th:only-of-type {\n",
       "        vertical-align: middle;\n",
       "    }\n",
       "\n",
       "    .dataframe tbody tr th {\n",
       "        vertical-align: top;\n",
       "    }\n",
       "\n",
       "    .dataframe thead th {\n",
       "        text-align: right;\n",
       "    }\n",
       "</style>\n",
       "<table border=\"1\" class=\"dataframe\">\n",
       "  <thead>\n",
       "    <tr style=\"text-align: right;\">\n",
       "      <th></th>\n",
       "      <th>rm_id</th>\n",
       "      <th>product_id</th>\n",
       "      <th>product_version</th>\n",
       "      <th>raw_material_alloy</th>\n",
       "      <th>raw_material_format_type</th>\n",
       "      <th>stock_location</th>\n",
       "    </tr>\n",
       "  </thead>\n",
       "  <tbody>\n",
       "    <tr>\n",
       "      <th>0</th>\n",
       "      <td>NaN</td>\n",
       "      <td>NaN</td>\n",
       "      <td>NaN</td>\n",
       "      <td>NaN</td>\n",
       "      <td>NaN</td>\n",
       "      <td>NaN</td>\n",
       "    </tr>\n",
       "    <tr>\n",
       "      <th>1</th>\n",
       "      <td>342.0</td>\n",
       "      <td>91900170.0</td>\n",
       "      <td>1.0</td>\n",
       "      <td>SB06 Traders</td>\n",
       "      <td>24.0</td>\n",
       "      <td>DELETED_28.02:2011_SB06 anodiz</td>\n",
       "    </tr>\n",
       "    <tr>\n",
       "      <th>2</th>\n",
       "      <td>343.0</td>\n",
       "      <td>91900143.0</td>\n",
       "      <td>2.0</td>\n",
       "      <td>SB02 606035</td>\n",
       "      <td>24.0</td>\n",
       "      <td>SB 02</td>\n",
       "    </tr>\n",
       "    <tr>\n",
       "      <th>3</th>\n",
       "      <td>345.0</td>\n",
       "      <td>91900143.0</td>\n",
       "      <td>2.0</td>\n",
       "      <td>SA10 606035</td>\n",
       "      <td>3.0</td>\n",
       "      <td>DELETED_28.02:2011_ST01</td>\n",
       "    </tr>\n",
       "    <tr>\n",
       "      <th>4</th>\n",
       "      <td>346.0</td>\n",
       "      <td>91900146.0</td>\n",
       "      <td>2.0</td>\n",
       "      <td>SA15 600540</td>\n",
       "      <td>3.0</td>\n",
       "      <td>DELETED_28.02:2011_SA 300370</td>\n",
       "    </tr>\n",
       "  </tbody>\n",
       "</table>\n",
       "</div>"
      ],
      "text/plain": [
       "   rm_id  product_id  product_version raw_material_alloy  \\\n",
       "0    NaN         NaN              NaN                NaN   \n",
       "1  342.0  91900170.0              1.0       SB06 Traders   \n",
       "2  343.0  91900143.0              2.0        SB02 606035   \n",
       "3  345.0  91900143.0              2.0        SA10 606035   \n",
       "4  346.0  91900146.0              2.0        SA15 600540   \n",
       "\n",
       "   raw_material_format_type                  stock_location  \n",
       "0                       NaN                             NaN  \n",
       "1                      24.0  DELETED_28.02:2011_SB06 anodiz  \n",
       "2                      24.0                           SB 02  \n",
       "3                       3.0         DELETED_28.02:2011_ST01  \n",
       "4                       3.0    DELETED_28.02:2011_SA 300370  "
      ]
     },
     "execution_count": 4,
     "metadata": {},
     "output_type": "execute_result"
    }
   ],
   "source": [
    "materials.head()"
   ]
  },
  {
   "cell_type": "code",
   "execution_count": 5,
   "id": "d203241e",
   "metadata": {},
   "outputs": [
    {
     "name": "stdout",
     "output_type": "stream",
     "text": [
      "<class 'pandas.core.frame.DataFrame'>\n",
      "RangeIndex: 1218 entries, 0 to 1217\n",
      "Data columns (total 6 columns):\n",
      " #   Column                    Non-Null Count  Dtype  \n",
      "---  ------                    --------------  -----  \n",
      " 0   rm_id                     1217 non-null   float64\n",
      " 1   product_id                1217 non-null   float64\n",
      " 2   product_version           1217 non-null   float64\n",
      " 3   raw_material_alloy        1217 non-null   object \n",
      " 4   raw_material_format_type  1217 non-null   float64\n",
      " 5   stock_location            1217 non-null   object \n",
      "dtypes: float64(4), object(2)\n",
      "memory usage: 57.2+ KB\n"
     ]
    }
   ],
   "source": [
    "materials.info()"
   ]
  }
 ],
 "metadata": {
  "kernelspec": {
   "display_name": "mml_dataprep",
   "language": "python",
   "name": "python3"
  },
  "language_info": {
   "codemirror_mode": {
    "name": "ipython",
    "version": 3
   },
   "file_extension": ".py",
   "mimetype": "text/x-python",
   "name": "python",
   "nbconvert_exporter": "python",
   "pygments_lexer": "ipython3",
   "version": "3.13.7"
  }
 },
 "nbformat": 4,
 "nbformat_minor": 5
}
