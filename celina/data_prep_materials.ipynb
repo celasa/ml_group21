{
 "cells": [
  {
   "cell_type": "code",
   "execution_count": 2,
   "id": "abd7d9b7",
   "metadata": {},
   "outputs": [],
   "source": [
    "import pandas as pd\n",
    "import numpy as np\n",
    "import matplotlib.pyplot as plt\n",
    "import seaborn as sns"
   ]
  },
  {
   "cell_type": "code",
   "execution_count": 3,
   "id": "cc4e573c",
   "metadata": {},
   "outputs": [],
   "source": [
    "materials = pd.read_csv('/home/celinaha/ml_group21/data/extended/materials.csv')"
   ]
  },
  {
   "cell_type": "code",
   "execution_count": 4,
   "id": "db1b55fd",
   "metadata": {},
   "outputs": [
    {
     "data": {
      "text/plain": [
       "rm_id                       False\n",
       "product_id                  False\n",
       "product_version             False\n",
       "raw_material_format_type    False\n",
       "dtype: bool"
      ]
     },
     "execution_count": 4,
     "metadata": {},
     "output_type": "execute_result"
    }
   ],
   "source": [
    "(materials.select_dtypes(include=['number'])<0).any()"
   ]
  },
  {
   "cell_type": "code",
   "execution_count": 17,
   "id": "ae25b6df",
   "metadata": {},
   "outputs": [
    {
     "data": {
      "text/html": [
       "<div>\n",
       "<style scoped>\n",
       "    .dataframe tbody tr th:only-of-type {\n",
       "        vertical-align: middle;\n",
       "    }\n",
       "\n",
       "    .dataframe tbody tr th {\n",
       "        vertical-align: top;\n",
       "    }\n",
       "\n",
       "    .dataframe thead th {\n",
       "        text-align: right;\n",
       "    }\n",
       "</style>\n",
       "<table border=\"1\" class=\"dataframe\">\n",
       "  <thead>\n",
       "    <tr style=\"text-align: right;\">\n",
       "      <th></th>\n",
       "      <th>rm_id</th>\n",
       "      <th>product_id</th>\n",
       "      <th>product_version</th>\n",
       "      <th>raw_material_alloy</th>\n",
       "      <th>raw_material_format_type</th>\n",
       "      <th>stock_location</th>\n",
       "    </tr>\n",
       "  </thead>\n",
       "  <tbody>\n",
       "    <tr>\n",
       "      <th>0</th>\n",
       "      <td>NaN</td>\n",
       "      <td>NaN</td>\n",
       "      <td>NaN</td>\n",
       "      <td>NaN</td>\n",
       "      <td>NaN</td>\n",
       "      <td>NaN</td>\n",
       "    </tr>\n",
       "    <tr>\n",
       "      <th>1</th>\n",
       "      <td>342.0</td>\n",
       "      <td>91900170.0</td>\n",
       "      <td>1.0</td>\n",
       "      <td>SB06 Traders</td>\n",
       "      <td>24.0</td>\n",
       "      <td>DELETED_28.02:2011_SB06 anodiz</td>\n",
       "    </tr>\n",
       "    <tr>\n",
       "      <th>2</th>\n",
       "      <td>343.0</td>\n",
       "      <td>91900143.0</td>\n",
       "      <td>2.0</td>\n",
       "      <td>SB02 606035</td>\n",
       "      <td>24.0</td>\n",
       "      <td>SB 02</td>\n",
       "    </tr>\n",
       "    <tr>\n",
       "      <th>3</th>\n",
       "      <td>345.0</td>\n",
       "      <td>91900143.0</td>\n",
       "      <td>2.0</td>\n",
       "      <td>SA10 606035</td>\n",
       "      <td>3.0</td>\n",
       "      <td>DELETED_28.02:2011_ST01</td>\n",
       "    </tr>\n",
       "    <tr>\n",
       "      <th>4</th>\n",
       "      <td>346.0</td>\n",
       "      <td>91900146.0</td>\n",
       "      <td>2.0</td>\n",
       "      <td>SA15 600540</td>\n",
       "      <td>3.0</td>\n",
       "      <td>DELETED_28.02:2011_SA 300370</td>\n",
       "    </tr>\n",
       "  </tbody>\n",
       "</table>\n",
       "</div>"
      ],
      "text/plain": [
       "   rm_id  product_id  product_version raw_material_alloy  \\\n",
       "0    NaN         NaN              NaN                NaN   \n",
       "1  342.0  91900170.0              1.0       SB06 Traders   \n",
       "2  343.0  91900143.0              2.0        SB02 606035   \n",
       "3  345.0  91900143.0              2.0        SA10 606035   \n",
       "4  346.0  91900146.0              2.0        SA15 600540   \n",
       "\n",
       "   raw_material_format_type                  stock_location  \n",
       "0                       NaN                             NaN  \n",
       "1                      24.0  DELETED_28.02:2011_SB06 anodiz  \n",
       "2                      24.0                           SB 02  \n",
       "3                       3.0         DELETED_28.02:2011_ST01  \n",
       "4                       3.0    DELETED_28.02:2011_SA 300370  "
      ]
     },
     "execution_count": 17,
     "metadata": {},
     "output_type": "execute_result"
    }
   ],
   "source": [
    "materials.head()"
   ]
  },
  {
   "cell_type": "markdown",
   "id": "ffdc8185",
   "metadata": {},
   "source": [
    "General info:"
   ]
  },
  {
   "cell_type": "code",
   "execution_count": 5,
   "id": "65a5d739",
   "metadata": {},
   "outputs": [
    {
     "data": {
      "text/plain": [
       "(1218, 6)"
      ]
     },
     "execution_count": 5,
     "metadata": {},
     "output_type": "execute_result"
    }
   ],
   "source": [
    "materials.shape"
   ]
  },
  {
   "cell_type": "code",
   "execution_count": 6,
   "id": "da5e7f3f",
   "metadata": {},
   "outputs": [
    {
     "name": "stdout",
     "output_type": "stream",
     "text": [
      "<class 'pandas.core.frame.DataFrame'>\n",
      "RangeIndex: 1218 entries, 0 to 1217\n",
      "Data columns (total 6 columns):\n",
      " #   Column                    Non-Null Count  Dtype  \n",
      "---  ------                    --------------  -----  \n",
      " 0   rm_id                     1217 non-null   float64\n",
      " 1   product_id                1217 non-null   float64\n",
      " 2   product_version           1217 non-null   float64\n",
      " 3   raw_material_alloy        1217 non-null   object \n",
      " 4   raw_material_format_type  1217 non-null   float64\n",
      " 5   stock_location            1217 non-null   object \n",
      "dtypes: float64(4), object(2)\n",
      "memory usage: 57.2+ KB\n"
     ]
    }
   ],
   "source": [
    "materials.info()"
   ]
  },
  {
   "cell_type": "code",
   "execution_count": 7,
   "id": "581bdf80",
   "metadata": {},
   "outputs": [
    {
     "data": {
      "text/plain": [
       "rm_id                       203\n",
       "product_id                   54\n",
       "product_version              65\n",
       "raw_material_alloy          180\n",
       "raw_material_format_type     25\n",
       "stock_location              153\n",
       "dtype: int64"
      ]
     },
     "execution_count": 7,
     "metadata": {},
     "output_type": "execute_result"
    }
   ],
   "source": [
    "materials.nunique()"
   ]
  },
  {
   "cell_type": "code",
   "execution_count": 9,
   "id": "dc1bac21",
   "metadata": {},
   "outputs": [
    {
     "data": {
      "text/plain": [
       "rm_id                       1\n",
       "product_id                  1\n",
       "product_version             1\n",
       "raw_material_alloy          1\n",
       "raw_material_format_type    1\n",
       "stock_location              1\n",
       "dtype: int64"
      ]
     },
     "execution_count": 9,
     "metadata": {},
     "output_type": "execute_result"
    }
   ],
   "source": [
    "# missing values\n",
    "materials.isna().sum()"
   ]
  },
  {
   "cell_type": "code",
   "execution_count": 10,
   "id": "1b1a3af9",
   "metadata": {},
   "outputs": [
    {
     "data": {
      "text/plain": [
       "rm_id                       0.082102\n",
       "product_id                  0.082102\n",
       "product_version             0.082102\n",
       "raw_material_alloy          0.082102\n",
       "raw_material_format_type    0.082102\n",
       "stock_location              0.082102\n",
       "dtype: float64"
      ]
     },
     "execution_count": 10,
     "metadata": {},
     "output_type": "execute_result"
    }
   ],
   "source": [
    "materials.isna().sum()/materials.shape[0]*100"
   ]
  },
  {
   "cell_type": "code",
   "execution_count": 15,
   "id": "ee5ed88c",
   "metadata": {},
   "outputs": [
    {
     "data": {
      "text/plain": [
       "np.int64(0)"
      ]
     },
     "execution_count": 15,
     "metadata": {},
     "output_type": "execute_result"
    }
   ],
   "source": [
    "materials.duplicated().sum()"
   ]
  },
  {
   "cell_type": "code",
   "execution_count": 16,
   "id": "f98eb045",
   "metadata": {},
   "outputs": [
    {
     "name": "stdout",
     "output_type": "stream",
     "text": [
      "raw_material_alloy\n",
      "CPS Prof 6060                  55\n",
      "CPS Prof 6060 Thermal Break    49\n",
      "PM 99,7                        46\n",
      "CPS Prof 6005                  45\n",
      "CPS Prof 6060 Lacado           43\n",
      "                               ..\n",
      "Cacharro                        1\n",
      "Shredded 0% PC                  1\n",
      "CPS 6005 (anodizado)            1\n",
      "CPS 6082 (anodizado)            1\n",
      "CPS 6082 (lacado)               1\n",
      "Name: count, Length: 180, dtype: int64\n",
      "******************************\n",
      "stock_location\n",
      "SB 16                         43\n",
      "SB 18                         37\n",
      "SB 17                         33\n",
      "SB 09                         33\n",
      "SB 20                         33\n",
      "                              ..\n",
      "Cable Lavadero                 1\n",
      "Aerosol Lavadero               1\n",
      "SA 01 A                        1\n",
      "SB 08 A                        1\n",
      "DELETED_12.05:2025_SB 16 B     1\n",
      "Name: count, Length: 153, dtype: int64\n",
      "******************************\n"
     ]
    }
   ],
   "source": [
    "# identifying garbage values\n",
    "for i in materials.select_dtypes(include=\"object\").columns:\n",
    "    print(materials[i].value_counts())\n",
    "    print(\"***\"*10)"
   ]
  },
  {
   "cell_type": "markdown",
   "id": "66d2d1ca",
   "metadata": {},
   "source": [
    "Changing datatypes"
   ]
  },
  {
   "cell_type": "code",
   "execution_count": 21,
   "id": "b506e3c4",
   "metadata": {},
   "outputs": [],
   "source": [
    "for i in materials.columns:\n",
    "    materials[i] = materials[i].astype('string')"
   ]
  },
  {
   "cell_type": "code",
   "execution_count": 22,
   "id": "5aab892b",
   "metadata": {},
   "outputs": [
    {
     "name": "stdout",
     "output_type": "stream",
     "text": [
      "<class 'pandas.core.frame.DataFrame'>\n",
      "RangeIndex: 1218 entries, 0 to 1217\n",
      "Data columns (total 6 columns):\n",
      " #   Column                    Non-Null Count  Dtype \n",
      "---  ------                    --------------  ----- \n",
      " 0   rm_id                     1217 non-null   string\n",
      " 1   product_id                1217 non-null   string\n",
      " 2   product_version           1217 non-null   string\n",
      " 3   raw_material_alloy        1217 non-null   string\n",
      " 4   raw_material_format_type  1217 non-null   string\n",
      " 5   stock_location            1217 non-null   string\n",
      "dtypes: string(6)\n",
      "memory usage: 57.2 KB\n"
     ]
    }
   ],
   "source": [
    "materials.info()"
   ]
  },
  {
   "cell_type": "markdown",
   "id": "b475832b",
   "metadata": {},
   "source": [
    "Missing values:"
   ]
  },
  {
   "cell_type": "code",
   "execution_count": null,
   "id": "ef8694ec",
   "metadata": {},
   "outputs": [
    {
     "data": {
      "text/plain": [
       "rm_id                       1\n",
       "product_id                  1\n",
       "product_version             1\n",
       "raw_material_alloy          1\n",
       "raw_material_format_type    1\n",
       "stock_location              1\n",
       "dtype: int64"
      ]
     },
     "execution_count": 25,
     "metadata": {},
     "output_type": "execute_result"
    }
   ],
   "source": [
    "materials.isna().sum()"
   ]
  },
  {
   "cell_type": "code",
   "execution_count": 26,
   "id": "d3e351c3",
   "metadata": {},
   "outputs": [
    {
     "data": {
      "text/html": [
       "<div>\n",
       "<style scoped>\n",
       "    .dataframe tbody tr th:only-of-type {\n",
       "        vertical-align: middle;\n",
       "    }\n",
       "\n",
       "    .dataframe tbody tr th {\n",
       "        vertical-align: top;\n",
       "    }\n",
       "\n",
       "    .dataframe thead th {\n",
       "        text-align: right;\n",
       "    }\n",
       "</style>\n",
       "<table border=\"1\" class=\"dataframe\">\n",
       "  <thead>\n",
       "    <tr style=\"text-align: right;\">\n",
       "      <th></th>\n",
       "      <th>rm_id</th>\n",
       "      <th>product_id</th>\n",
       "      <th>product_version</th>\n",
       "      <th>raw_material_alloy</th>\n",
       "      <th>raw_material_format_type</th>\n",
       "      <th>stock_location</th>\n",
       "    </tr>\n",
       "  </thead>\n",
       "  <tbody>\n",
       "    <tr>\n",
       "      <th>0</th>\n",
       "      <td>&lt;NA&gt;</td>\n",
       "      <td>&lt;NA&gt;</td>\n",
       "      <td>&lt;NA&gt;</td>\n",
       "      <td>&lt;NA&gt;</td>\n",
       "      <td>&lt;NA&gt;</td>\n",
       "      <td>&lt;NA&gt;</td>\n",
       "    </tr>\n",
       "    <tr>\n",
       "      <th>1</th>\n",
       "      <td>342.0</td>\n",
       "      <td>91900170.0</td>\n",
       "      <td>1.0</td>\n",
       "      <td>SB06 Traders</td>\n",
       "      <td>24.0</td>\n",
       "      <td>DELETED_28.02:2011_SB06 anodiz</td>\n",
       "    </tr>\n",
       "    <tr>\n",
       "      <th>2</th>\n",
       "      <td>343.0</td>\n",
       "      <td>91900143.0</td>\n",
       "      <td>2.0</td>\n",
       "      <td>SB02 606035</td>\n",
       "      <td>24.0</td>\n",
       "      <td>SB 02</td>\n",
       "    </tr>\n",
       "    <tr>\n",
       "      <th>3</th>\n",
       "      <td>345.0</td>\n",
       "      <td>91900143.0</td>\n",
       "      <td>2.0</td>\n",
       "      <td>SA10 606035</td>\n",
       "      <td>3.0</td>\n",
       "      <td>DELETED_28.02:2011_ST01</td>\n",
       "    </tr>\n",
       "    <tr>\n",
       "      <th>4</th>\n",
       "      <td>346.0</td>\n",
       "      <td>91900146.0</td>\n",
       "      <td>2.0</td>\n",
       "      <td>SA15 600540</td>\n",
       "      <td>3.0</td>\n",
       "      <td>DELETED_28.02:2011_SA 300370</td>\n",
       "    </tr>\n",
       "  </tbody>\n",
       "</table>\n",
       "</div>"
      ],
      "text/plain": [
       "   rm_id  product_id product_version raw_material_alloy  \\\n",
       "0   <NA>        <NA>            <NA>               <NA>   \n",
       "1  342.0  91900170.0             1.0       SB06 Traders   \n",
       "2  343.0  91900143.0             2.0        SB02 606035   \n",
       "3  345.0  91900143.0             2.0        SA10 606035   \n",
       "4  346.0  91900146.0             2.0        SA15 600540   \n",
       "\n",
       "  raw_material_format_type                  stock_location  \n",
       "0                     <NA>                            <NA>  \n",
       "1                     24.0  DELETED_28.02:2011_SB06 anodiz  \n",
       "2                     24.0                           SB 02  \n",
       "3                      3.0         DELETED_28.02:2011_ST01  \n",
       "4                      3.0    DELETED_28.02:2011_SA 300370  "
      ]
     },
     "execution_count": 26,
     "metadata": {},
     "output_type": "execute_result"
    }
   ],
   "source": [
    "materials.head()"
   ]
  },
  {
   "cell_type": "code",
   "execution_count": 28,
   "id": "3b8188e7",
   "metadata": {},
   "outputs": [
    {
     "data": {
      "text/html": [
       "<div>\n",
       "<style scoped>\n",
       "    .dataframe tbody tr th:only-of-type {\n",
       "        vertical-align: middle;\n",
       "    }\n",
       "\n",
       "    .dataframe tbody tr th {\n",
       "        vertical-align: top;\n",
       "    }\n",
       "\n",
       "    .dataframe thead th {\n",
       "        text-align: right;\n",
       "    }\n",
       "</style>\n",
       "<table border=\"1\" class=\"dataframe\">\n",
       "  <thead>\n",
       "    <tr style=\"text-align: right;\">\n",
       "      <th></th>\n",
       "      <th>count</th>\n",
       "      <th>unique</th>\n",
       "      <th>top</th>\n",
       "      <th>freq</th>\n",
       "    </tr>\n",
       "  </thead>\n",
       "  <tbody>\n",
       "    <tr>\n",
       "      <th>rm_id</th>\n",
       "      <td>1217</td>\n",
       "      <td>203</td>\n",
       "      <td>2130.0</td>\n",
       "      <td>45</td>\n",
       "    </tr>\n",
       "    <tr>\n",
       "      <th>product_id</th>\n",
       "      <td>1217</td>\n",
       "      <td>54</td>\n",
       "      <td>91901460.0</td>\n",
       "      <td>212</td>\n",
       "    </tr>\n",
       "    <tr>\n",
       "      <th>product_version</th>\n",
       "      <td>1217</td>\n",
       "      <td>65</td>\n",
       "      <td>1.0</td>\n",
       "      <td>88</td>\n",
       "    </tr>\n",
       "    <tr>\n",
       "      <th>raw_material_alloy</th>\n",
       "      <td>1217</td>\n",
       "      <td>180</td>\n",
       "      <td>CPS Prof 6060</td>\n",
       "      <td>55</td>\n",
       "    </tr>\n",
       "    <tr>\n",
       "      <th>raw_material_format_type</th>\n",
       "      <td>1217</td>\n",
       "      <td>25</td>\n",
       "      <td>36.0</td>\n",
       "      <td>338</td>\n",
       "    </tr>\n",
       "    <tr>\n",
       "      <th>stock_location</th>\n",
       "      <td>1217</td>\n",
       "      <td>153</td>\n",
       "      <td>SB 16</td>\n",
       "      <td>43</td>\n",
       "    </tr>\n",
       "  </tbody>\n",
       "</table>\n",
       "</div>"
      ],
      "text/plain": [
       "                         count unique            top freq\n",
       "rm_id                     1217    203         2130.0   45\n",
       "product_id                1217     54     91901460.0  212\n",
       "product_version           1217     65            1.0   88\n",
       "raw_material_alloy        1217    180  CPS Prof 6060   55\n",
       "raw_material_format_type  1217     25           36.0  338\n",
       "stock_location            1217    153          SB 16   43"
      ]
     },
     "execution_count": 28,
     "metadata": {},
     "output_type": "execute_result"
    }
   ],
   "source": [
    "materials.describe(include='string').T"
   ]
  }
 ],
 "metadata": {
  "kernelspec": {
   "display_name": "mml_dataprep",
   "language": "python",
   "name": "python3"
  },
  "language_info": {
   "codemirror_mode": {
    "name": "ipython",
    "version": 3
   },
   "file_extension": ".py",
   "mimetype": "text/x-python",
   "name": "python",
   "nbconvert_exporter": "python",
   "pygments_lexer": "ipython3",
   "version": "3.13.7"
  }
 },
 "nbformat": 4,
 "nbformat_minor": 5
}
